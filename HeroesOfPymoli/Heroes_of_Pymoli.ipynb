{
 "cells": [
  {
   "cell_type": "code",
   "execution_count": 1,
   "metadata": {},
   "outputs": [],
   "source": [
    "import pandas as pd"
   ]
  },
  {
   "cell_type": "code",
   "execution_count": 2,
   "metadata": {},
   "outputs": [],
   "source": [
    "pymoli_data = \"Resources/pymoli_data.csv\"\n",
    "pymoli_df = pd.read_csv(pymoli_data)"
   ]
  },
  {
   "cell_type": "code",
   "execution_count": 6,
   "metadata": {},
   "outputs": [
    {
     "name": "stdout",
     "output_type": "stream",
     "text": [
      "   Total Players\n",
      "0            576\n"
     ]
    }
   ],
   "source": [
    "#Calculate total number of players\n",
    "total_players = pymoli_df[\"SN\"].nunique()\n",
    "Total_Plyrs = pd.DataFrame({\"Total Players\": [total_players]})\n",
    "print(Total_Plyrs)"
   ]
  },
  {
   "cell_type": "code",
   "execution_count": 7,
   "metadata": {},
   "outputs": [
    {
     "name": "stdout",
     "output_type": "stream",
     "text": [
      "   Number of Unique Items  Average Price  Number of Purchases Total Revenue\n",
      "0                     179           3.05                  780     $2,379.77\n"
     ]
    }
   ],
   "source": [
    "#Calculate purchase statistics: number of unique items, average price across all items, number of purchases, and total revenue\n",
    "number_items = pymoli_df[\"Item ID\"].nunique()\n",
    "avg_price = round(pymoli_df[\"Price\"].mean(),2)\n",
    "number_purchases = pymoli_df[\"Purchase ID\"].count()\n",
    "total_revenue = pymoli_df[\"Price\"].sum()\n",
    "\n",
    "#Create data frame of purchase analysis variables\n",
    "TotalPA_df = pd.DataFrame({\"Number of Unique Items\": [number_items], \"Average Price\": [avg_price],\n",
    "                           \"Number of Purchases\": [number_purchases], \"Total Revenue\": [\"${:,.2f}\".format(total_revenue)]})\n",
    "print(TotalPA_df)"
   ]
  },
  {
   "cell_type": "code",
   "execution_count": 8,
   "metadata": {},
   "outputs": [
    {
     "name": "stdout",
     "output_type": "stream",
     "text": [
      "                       Total Count Percentage of Players\n",
      "Gender                                                  \n",
      "Male                           484                84.03%\n",
      "Female                          81                14.06%\n",
      "Other / Non-Disclosed           11                 1.91%\n"
     ]
    }
   ],
   "source": [
    "#Create a data frame of SN (player) and gender; drop duplicates\n",
    "gender_df = pymoli_df[[\"SN\", \"Gender\"]]\n",
    "gender_nodupe_df = gender_df.drop_duplicates([\"SN\", \"Gender\"])\n",
    "\n",
    "#Group by gender, count number of players by each gender, and calculate percentage\n",
    "gender_group = gender_nodupe_df.groupby([\"Gender\"])\n",
    "gen = gender_group[\"Gender\"].count()\n",
    "gen_pct = (gen/total_players)\n",
    "\n",
    "#Create data frame of count and percent by gender; sort by highest group (males)\n",
    "gen_pct_df = pd.DataFrame({\"Total Count\": gen, \"Percentage of Players\": gen_pct}).sort_values(\"Total Count\", ascending=False)\n",
    "gen_pct_df[\"Percentage of Players\"] = gen_pct_df[\"Percentage of Players\"].map(\"{:.2%}\".format)\n",
    "print(gen_pct_df)"
   ]
  },
  {
   "cell_type": "code",
   "execution_count": 9,
   "metadata": {},
   "outputs": [
    {
     "name": "stdout",
     "output_type": "stream",
     "text": [
      "                       Purchase Count Average Purchase Price  \\\n",
      "Gender                                                         \n",
      "Female                            113                  $3.20   \n",
      "Male                              652                  $3.02   \n",
      "Other / Non-Disclosed              15                  $3.35   \n",
      "\n",
      "                      Total Purchase Value Average Total Purchase Per Person  \n",
      "Gender                                                                        \n",
      "Female                             $361.94                             $4.47  \n",
      "Male                              $1967.64                             $4.07  \n",
      "Other / Non-Disclosed               $50.19                             $4.56  \n"
     ]
    }
   ],
   "source": [
    "#Group by gender and summarize number of purchases, total purchase value by gender; calculate average purchase price and\n",
    "#average total purchase per person\n",
    "gender_group2 = pymoli_df.groupby([\"Gender\"])\n",
    "gen_purch_cnt = gender_group2[\"Purchase ID\"].count()\n",
    "gen_avg_prc = round(gender_group2[\"Price\"].mean(),2)\n",
    "gen_total_pv = round(gender_group2[\"Price\"].sum(),2)\n",
    "gen_avg_pt = round(gen_total_pv/gen, 2)\n",
    "\n",
    "#Create data frame of purchase statistics by gender\n",
    "gen_demo_df = pd.DataFrame({\"Purchase Count\": gen_purch_cnt, \n",
    "                            \"Average Purchase Price\": gen_avg_prc, \n",
    "                            \"Total Purchase Value\": gen_total_pv, \n",
    "                            \"Average Total Purchase Per Person\": gen_avg_pt})\n",
    "gen_demo_df[\"Average Purchase Price\"] = gen_demo_df[\"Average Purchase Price\"].map(\"${:.2f}\".format)\n",
    "gen_demo_df[\"Total Purchase Value\"] = gen_demo_df[\"Total Purchase Value\"].map(\"${:.2f}\".format)\n",
    "gen_demo_df[\"Average Total Purchase Per Person\"] = gen_demo_df[\"Average Total Purchase Per Person\"].map(\"${:.2f}\".format)\n",
    "print(gen_demo_df)"
   ]
  },
  {
   "cell_type": "code",
   "execution_count": 10,
   "metadata": {},
   "outputs": [
    {
     "name": "stdout",
     "output_type": "stream",
     "text": [
      "           Total Count Percentage of Players\n",
      "Age Group                                   \n",
      "< 10                17                 2.95%\n",
      "10-14               22                 3.82%\n",
      "15-19              107                18.58%\n",
      "20-24              258                44.79%\n",
      "25-29               77                13.37%\n",
      "30-34               52                 9.03%\n",
      "35-40               31                 5.38%\n",
      "40+                 12                 2.08%\n"
     ]
    }
   ],
   "source": [
    "#Create age bins\n",
    "bins = [0, 9, 14, 19, 24, 29, 34, 39, 49]\n",
    "bin_names = [\"< 10\", \"10-14\", \"15-19\", \"20-24\", \"25-29\", \"30-34\", \"35-40\", \"40+\"]\n",
    "pymoli_df[\"Age Group\"] = pd.cut(pymoli_df[\"Age\"], bins, labels=bin_names, include_lowest=True)\n",
    "\n",
    "#Create a data frame of SN (player) and age group; drop duplicates\n",
    "age_df = pymoli_df[[\"SN\", \"Age Group\"]]\n",
    "age_nodupe_df = age_df.drop_duplicates([\"SN\", \"Age Group\"])\n",
    "\n",
    "#Group by age group, count number of players by each age group, and calculate percentage\n",
    "age_group = age_nodupe_df.groupby([\"Age Group\"])\n",
    "age = age_group[\"Age Group\"].count()\n",
    "age_pct = (age/total_players)\n",
    "\n",
    "#Create data frame of count and percent by age group\n",
    "age_pct_df = pd.DataFrame({\"Total Count\": age, \"Percentage of Players\": age_pct})\n",
    "age_pct_df[\"Percentage of Players\"] = age_pct_df[\"Percentage of Players\"].map(\"{:.2%}\".format)\n",
    "print(age_pct_df)"
   ]
  },
  {
   "cell_type": "code",
   "execution_count": 11,
   "metadata": {},
   "outputs": [
    {
     "name": "stdout",
     "output_type": "stream",
     "text": [
      "           Purchase Count Average Purchase Price Total Purchase Value  \\\n",
      "Age Group                                                               \n",
      "< 10                   23                  $3.35               $77.13   \n",
      "10-14                  28                  $2.96               $82.78   \n",
      "15-19                 136                  $3.04              $412.89   \n",
      "20-24                 365                  $3.05             $1114.06   \n",
      "25-29                 101                  $2.90              $293.00   \n",
      "30-34                  73                  $2.93              $214.00   \n",
      "35-40                  41                  $3.60              $147.67   \n",
      "40+                    13                  $2.94               $38.24   \n",
      "\n",
      "          Average Total Purchase Per Person  \n",
      "Age Group                                    \n",
      "< 10                                  $4.54  \n",
      "10-14                                 $3.76  \n",
      "15-19                                 $3.86  \n",
      "20-24                                 $4.32  \n",
      "25-29                                 $3.81  \n",
      "30-34                                 $4.12  \n",
      "35-40                                 $4.76  \n",
      "40+                                   $3.19  \n"
     ]
    }
   ],
   "source": [
    "#create group by variable on Age Group and calculate number of items purchased, average purchase price, total purchase amount\n",
    "#and average purchase amount per player by each age group\n",
    "age_group2 = pymoli_df.groupby([\"Age Group\"])\n",
    "age_purch_cnt = age_group2[\"Purchase ID\"].count()\n",
    "age_avg_prc = round(age_group2[\"Price\"].mean(),2)\n",
    "age_total_pv = round(age_group2[\"Price\"].sum(),2)\n",
    "age_avg_pt = round(age_total_pv/age, 2)\n",
    "\n",
    "#create data frame of grouped by calculations and format currency variables\n",
    "age_demo_df = pd.DataFrame({\"Purchase Count\": age_purch_cnt, \n",
    "                            \"Average Purchase Price\": age_avg_prc, \n",
    "                            \"Total Purchase Value\": age_total_pv, \n",
    "                            \"Average Total Purchase Per Person\": age_avg_pt})\n",
    "age_demo_df[\"Average Purchase Price\"] = age_demo_df[\"Average Purchase Price\"].map(\"${:.2f}\".format)\n",
    "age_demo_df[\"Total Purchase Value\"] = age_demo_df[\"Total Purchase Value\"].map(\"${:.2f}\".format)\n",
    "age_demo_df[\"Average Total Purchase Per Person\"] = age_demo_df[\"Average Total Purchase Per Person\"].map(\"${:.2f}\".format)\n",
    "print(age_demo_df)"
   ]
  },
  {
   "cell_type": "code",
   "execution_count": 12,
   "metadata": {},
   "outputs": [
    {
     "name": "stdout",
     "output_type": "stream",
     "text": [
      "             Purchase Count Average Purchase Price Total Purchase Value\n",
      "SN                                                                     \n",
      "Lisosia93                 5                  $3.79               $18.96\n",
      "Idastidru52               4                  $3.86               $15.45\n",
      "Chamjask73                3                  $4.61               $13.83\n",
      "Iral74                    4                  $3.40               $13.62\n",
      "Iskadarya95               3                  $4.37               $13.10\n"
     ]
    }
   ],
   "source": [
    "#create group by variable on player and calculate number of items purchased, total purchase amount and average purchase amount\n",
    "#for each player\n",
    "pymoli_player = pymoli_df.groupby([\"SN\"])\n",
    "total_pv_plyr = round(pymoli_player[\"Price\"].sum(), 2)\n",
    "purch_cnt_plyr = pymoli_player[\"Item ID\"].count()\n",
    "avg_pp_plyr = round(total_pv_plyr/purch_cnt_plyr, 2)\n",
    "\n",
    "#create data frame of grouped by calculations and keep the top 5 players based on total purchase value\n",
    "top_plyr_df = pd.DataFrame({\"Purchase Count\": purch_cnt_plyr, \"Average Purchase Price\": avg_pp_plyr, \"Total Purchase Value\": \n",
    "                           total_pv_plyr}).nlargest(5, \"Total Purchase Value\")\n",
    "top_plyr_df[\"Average Purchase Price\"] = top_plyr_df[\"Average Purchase Price\"].map(\"${:.2f}\".format)\n",
    "top_plyr_df[\"Total Purchase Value\"] = top_plyr_df[\"Total Purchase Value\"].map(\"${:.2f}\".format)\n",
    "print(top_plyr_df)"
   ]
  },
  {
   "cell_type": "code",
   "execution_count": 13,
   "metadata": {},
   "outputs": [
    {
     "name": "stdout",
     "output_type": "stream",
     "text": [
      "                                                      Purchase Count  \\\n",
      "Item ID Item Name                                                      \n",
      "92      Final Critic                                              13   \n",
      "178     Oathbreaker, Last Hope of the Breaking Storm              12   \n",
      "82      Nirvana                                                    9   \n",
      "108     Extraction, Quickblade Of Trembling Hands                  9   \n",
      "132     Persuasion                                                 9   \n",
      "\n",
      "                                                     Item Price  \\\n",
      "Item ID Item Name                                                 \n",
      "92      Final Critic                                      $4.61   \n",
      "178     Oathbreaker, Last Hope of the Breaking Storm      $4.23   \n",
      "82      Nirvana                                           $4.90   \n",
      "108     Extraction, Quickblade Of Trembling Hands         $3.53   \n",
      "132     Persuasion                                        $3.22   \n",
      "\n",
      "                                                     Total Purchase Value  \n",
      "Item ID Item Name                                                          \n",
      "92      Final Critic                                               $59.93  \n",
      "178     Oathbreaker, Last Hope of the Breaking Storm               $50.76  \n",
      "82      Nirvana                                                    $44.10  \n",
      "108     Extraction, Quickblade Of Trembling Hands                  $31.77  \n",
      "132     Persuasion                                                 $28.98  \n"
     ]
    }
   ],
   "source": [
    "#Create dataframe with only item variables:  Item ID, Item Name and Price\n",
    "item_df = pymoli_df[[\"Item ID\", \"Item Name\", \"Price\"]]\n",
    "\n",
    "#Group by Item ID, Item Name and calculate purchase count by item and total purchase value\n",
    "item_group = item_df.groupby([\"Item ID\", \"Item Name\"])\n",
    "item_count = item_group[\"Item ID\"].count()\n",
    "item_price = round(item_group[\"Price\"].mean(),2)\n",
    "tpv_item = item_count*item_price\n",
    "\n",
    "#create Most Popular Item data frame of grouped by calculations keeping the top 5 items based on purchase count\n",
    "pop_item_df = pd.DataFrame({\"Purchase Count\": item_count, \"Item Price\": item_price, \n",
    "                            \"Total Purchase Value\": tpv_item}).nlargest(5, \"Purchase Count\")\n",
    "pop_item_df[\"Item Price\"] = pop_item_df[\"Item Price\"].map(\"${:.2f}\".format)\n",
    "pop_item_df[\"Total Purchase Value\"] = pop_item_df[\"Total Purchase Value\"].map(\"${:.2f}\".format)\n",
    "print(pop_item_df)"
   ]
  },
  {
   "cell_type": "code",
   "execution_count": 14,
   "metadata": {},
   "outputs": [
    {
     "name": "stdout",
     "output_type": "stream",
     "text": [
      "                                                      Purchase Count  \\\n",
      "Item ID Item Name                                                      \n",
      "92      Final Critic                                              13   \n",
      "178     Oathbreaker, Last Hope of the Breaking Storm              12   \n",
      "82      Nirvana                                                    9   \n",
      "145     Fiery Glass Crusader                                       9   \n",
      "103     Singed Scalpel                                             8   \n",
      "\n",
      "                                                     Item Price  \\\n",
      "Item ID Item Name                                                 \n",
      "92      Final Critic                                      $4.61   \n",
      "178     Oathbreaker, Last Hope of the Breaking Storm      $4.23   \n",
      "82      Nirvana                                           $4.90   \n",
      "145     Fiery Glass Crusader                              $4.58   \n",
      "103     Singed Scalpel                                    $4.35   \n",
      "\n",
      "                                                     Total Purchase Value  \n",
      "Item ID Item Name                                                          \n",
      "92      Final Critic                                               $59.93  \n",
      "178     Oathbreaker, Last Hope of the Breaking Storm               $50.76  \n",
      "82      Nirvana                                                    $44.10  \n",
      "145     Fiery Glass Crusader                                       $41.22  \n",
      "103     Singed Scalpel                                             $34.80  \n"
     ]
    }
   ],
   "source": [
    "#create Most Profitable Item data frame of grouped by calculations keeping the top 5 items based on total purchase value\n",
    "prft_item_df = pd.DataFrame({\"Purchase Count\": item_count, \"Item Price\": item_price, \n",
    "                            \"Total Purchase Value\": tpv_item}).nlargest(5, \"Total Purchase Value\")\n",
    "prft_item_df[\"Item Price\"] = prft_item_df[\"Item Price\"].map(\"${:.2f}\".format)\n",
    "prft_item_df[\"Total Purchase Value\"] = prft_item_df[\"Total Purchase Value\"].map(\"${:.2f}\".format)\n",
    "print(prft_item_df)"
   ]
  },
  {
   "cell_type": "code",
   "execution_count": null,
   "metadata": {},
   "outputs": [],
   "source": []
  }
 ],
 "metadata": {
  "kernelspec": {
   "display_name": "Python 3",
   "language": "python",
   "name": "python3"
  },
  "language_info": {
   "codemirror_mode": {
    "name": "ipython",
    "version": 3
   },
   "file_extension": ".py",
   "mimetype": "text/x-python",
   "name": "python",
   "nbconvert_exporter": "python",
   "pygments_lexer": "ipython3",
   "version": "3.7.6"
  }
 },
 "nbformat": 4,
 "nbformat_minor": 4
}

